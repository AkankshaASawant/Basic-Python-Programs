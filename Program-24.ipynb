{
 "cells": [
  {
   "cell_type": "markdown",
   "id": "c9ca1579",
   "metadata": {},
   "source": [
    "### Write a Python Program to Convert Decimal to Binary, Octal and Hexadecimal."
   ]
  },
  {
   "cell_type": "markdown",
   "id": "3ac7296e",
   "metadata": {},
   "source": [
    "How can we manually convert a decimal number to binary, octal and hexadecimal?\n",
    "\n",
    "Converting a decimal number to binary, octal, and hexadecimal involves dividing the decimal number by the base repeatedly and noting the remainders at each step. Here's a simple example:\n",
    "\n",
    "Let's convert the decimal number 27 to binary, octal, and hexadecimal.\n",
    "\n",
    "1. Binary:\n",
    "- Divide 27 by 2. Quotient is 13, remainder is 1. Note the remainder.\n",
    "- Divide 13 by 2. Quotient is 6, remainder is 1. Note the remainder.\n",
    "- Divide 6 by 2. Quotient is 3, remainder is 0. Note the remainder.\n",
    "- Divide 3 by 2. Quotient is 1, remainder is 1. Note the remainder.\n",
    "- Divide 1 by 2. Quotient is 0, remainder is 1. Note the remainder.\n",
    "Reading the remainders from bottom to top, the binary representation of 27 is 11011.\n",
    "\n",
    "2. Octal: \n",
    "- Divide 27 by 8. Quotient is 3, remainder is 3. Note the remainder.\n",
    "- Divide 3 by 8. Quotient is 0, remainder is 3. Note the remainder.\n",
    "Reading the remainders from bottom to top, the octal representation of 27 is 33.\n",
    "\n",
    "3. Hexadecimal:\n",
    "- Divide 27 by 16. Quotient is 1, remainder is 11 (B in hexadecimal). Note the\n",
    "remainder.\n",
    "Reading the remainders, the hexadecimal representation of 27 is 1B.\n",
    "\n",
    "So, in summary:\n",
    "Binary: 27 in decimal is 11011 in binary.\n",
    "Octal: 27 in decimal is 33 in octal.\n",
    "Hexadecimal: 27 in decimal is 1B in hexadecimal."
   ]
  },
  {
   "cell_type": "code",
   "execution_count": 1,
   "id": "7bd7536f",
   "metadata": {},
   "outputs": [
    {
     "name": "stdout",
     "output_type": "stream",
     "text": [
      "The decimal num is 27\n",
      "0b11011 in binary\n",
      "0o33 in octal\n",
      "0x1b in hexadecimal.\n"
     ]
    }
   ],
   "source": [
    "dec_num = int(input(\"Enter decimal num: \"))\n",
    "\n",
    "print(\"The decimal num is\", dec_num)\n",
    "print(bin(dec_num), \"in binary\")\n",
    "print(oct(dec_num), \"in octal\")\n",
    "print(hex(dec_num), \"in hexadecimal.\")"
   ]
  },
  {
   "cell_type": "code",
   "execution_count": null,
   "id": "ab9a0973",
   "metadata": {},
   "outputs": [],
   "source": []
  }
 ],
 "metadata": {
  "kernelspec": {
   "display_name": "Python 3",
   "language": "python",
   "name": "python3"
  },
  "language_info": {
   "codemirror_mode": {
    "name": "ipython",
    "version": 3
   },
   "file_extension": ".py",
   "mimetype": "text/x-python",
   "name": "python",
   "nbconvert_exporter": "python",
   "pygments_lexer": "ipython3",
   "version": "3.12.1"
  }
 },
 "nbformat": 4,
 "nbformat_minor": 5
}
