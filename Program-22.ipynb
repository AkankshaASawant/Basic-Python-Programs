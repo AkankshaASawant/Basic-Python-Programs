{
 "cells": [
  {
   "cell_type": "markdown",
   "id": "53f1124f",
   "metadata": {},
   "source": [
    "### Write a Python Program to Find LCM. "
   ]
  },
  {
   "cell_type": "markdown",
   "id": "d4ccfdc2",
   "metadata": {},
   "source": [
    "Least Common Multiple (LCM):\n",
    "LCM, or Least Common Multiple, is the smallest multiple that is exactly divisible by two or more numbers.\n",
    "\n",
    "Formula:\n",
    "For two numbers a and b, the LCM can be found using the formula:\n",
    "\n",
    "                LCM(a,b) = |a.b| / GCD(a,b)\n",
    "\n",
    "For more than two numbers, you can find the LCM step by step, taking the LCM of pairs of numbers at a time until you reach the last pair.\n",
    "Note: GCD stands for Greatest Common Divisor"
   ]
  },
  {
   "cell_type": "code",
   "execution_count": 2,
   "id": "611945f5",
   "metadata": {},
   "outputs": [
    {
     "name": "stdout",
     "output_type": "stream",
     "text": [
      "The LCM of 43 and 35 is 1505\n"
     ]
    }
   ],
   "source": [
    "# Create a function to compute the LCM\n",
    "def compute_lcm(x, y): \n",
    "\n",
    "    # create generate var for bigger number\n",
    "    if x > y: \n",
    "        greater = x\n",
    "    else: \n",
    "        greater = y\n",
    "\n",
    "    while(True): \n",
    "        if (greater % x == 0) and (greater % y == 0): \n",
    "            lcm = greater\n",
    "            break\n",
    "\n",
    "        greater += 1\n",
    "    return lcm\n",
    "\n",
    "num1 = int(input(\"Enter number: \"))\n",
    "num2 = int(input(\"Enter number: \"))\n",
    "\n",
    "print(f\"The LCM of {num1} and {num2} is {compute_lcm(num1, num2)}\")"
   ]
  },
  {
   "cell_type": "code",
   "execution_count": null,
   "id": "95cd14a7",
   "metadata": {},
   "outputs": [],
   "source": []
  }
 ],
 "metadata": {
  "kernelspec": {
   "display_name": "Python 3",
   "language": "python",
   "name": "python3"
  },
  "language_info": {
   "codemirror_mode": {
    "name": "ipython",
    "version": 3
   },
   "file_extension": ".py",
   "mimetype": "text/x-python",
   "name": "python",
   "nbconvert_exporter": "python",
   "pygments_lexer": "ipython3",
   "version": "3.12.1"
  }
 },
 "nbformat": 4,
 "nbformat_minor": 5
}
