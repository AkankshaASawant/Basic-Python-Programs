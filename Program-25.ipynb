{
 "cells": [
  {
   "cell_type": "markdown",
   "id": "d8d5fae4",
   "metadata": {},
   "source": [
    "### Write a Python Program To Find ASCII value of a character."
   ]
  },
  {
   "cell_type": "markdown",
   "id": "f1fbb0f0",
   "metadata": {},
   "source": [
    "ASCII value:\n",
    "\n",
    "ASCII, or American Standard Code for Information Interchange, is a character encoding standard that uses numeric values to represent characters. Each ASCII character is assigned a unique 7-bit or 8-bit binary number, allowing computers to exchange information and display text in a consistent way. The ASCII values range from 0 to 127 (for 7-bit ASCII) or 0 to 255 (for 8-bit ASCII), with each value corresponding to a specific character, such as letters, digits, punctuation marks, and control characters."
   ]
  },
  {
   "cell_type": "code",
   "execution_count": 1,
   "id": "bfaaaa04",
   "metadata": {},
   "outputs": [
    {
     "name": "stdout",
     "output_type": "stream",
     "text": [
      "The ASCII value of P is 80\n"
     ]
    }
   ],
   "source": [
    "char = str(input(\"Enter the character: \"))\n",
    "print(f\"The ASCII value of {char} is {ord(char)}\")"
   ]
  },
  {
   "cell_type": "code",
   "execution_count": null,
   "id": "940d6080",
   "metadata": {},
   "outputs": [],
   "source": []
  }
 ],
 "metadata": {
  "kernelspec": {
   "display_name": "Python 3",
   "language": "python",
   "name": "python3"
  },
  "language_info": {
   "codemirror_mode": {
    "name": "ipython",
    "version": 3
   },
   "file_extension": ".py",
   "mimetype": "text/x-python",
   "name": "python",
   "nbconvert_exporter": "python",
   "pygments_lexer": "ipython3",
   "version": "3.12.1"
  }
 },
 "nbformat": 4,
 "nbformat_minor": 5
}
