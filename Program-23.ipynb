{
 "cells": [
  {
   "cell_type": "markdown",
   "id": "83218b9e",
   "metadata": {},
   "source": [
    "### Write a Python Program to Find HCF."
   ]
  },
  {
   "cell_type": "markdown",
   "id": "e7b89c0b",
   "metadata": {},
   "source": [
    "Highest Common Factor(HCF):\n",
    "HCF, or Highest Common Factor, is the largest positive integer that divides two or more numbers without leaving a remainder.\n",
    "\n",
    "Formula:\n",
    "For two numbers a and b, the HCF can be found using the formula:\n",
    "\n",
    "                  HCF(a,b) = GCD(a,b)\n",
    "\n",
    "For more than two numbers, you can find the HCF by taking the GCD of pairs of numbers at a time until you reach the last pair.\n",
    "Note: GCD stands for Greatest Common Divisor."
   ]
  },
  {
   "cell_type": "code",
   "execution_count": 3,
   "id": "f4d5f798",
   "metadata": {},
   "outputs": [
    {
     "name": "stdout",
     "output_type": "stream",
     "text": [
      "The HCF is 6\n"
     ]
    }
   ],
   "source": [
    "# define function\n",
    "def compute_hcf(x,y): \n",
    "    # Choose smallest num\n",
    "    if x < y: \n",
    "        smaller = x\n",
    "    else: \n",
    "        smaller = y\n",
    "\n",
    "    for i in range(1, smaller+1): \n",
    "        if ((x % i == 0) and (y % i == 0)): \n",
    "            hcf = i\n",
    "    return hcf\n",
    "\n",
    "num1 = int(input(\"Enter number: \"))\n",
    "num2 = int(input(\"Enter number: \"))\n",
    "\n",
    "print(\"The HCF is\", compute_hcf(num1, num2))"
   ]
  },
  {
   "cell_type": "code",
   "execution_count": null,
   "id": "a83cc128",
   "metadata": {},
   "outputs": [],
   "source": []
  }
 ],
 "metadata": {
  "kernelspec": {
   "display_name": "Python 3",
   "language": "python",
   "name": "python3"
  },
  "language_info": {
   "codemirror_mode": {
    "name": "ipython",
    "version": 3
   },
   "file_extension": ".py",
   "mimetype": "text/x-python",
   "name": "python",
   "nbconvert_exporter": "python",
   "pygments_lexer": "ipython3",
   "version": "3.12.1"
  }
 },
 "nbformat": 4,
 "nbformat_minor": 5
}
