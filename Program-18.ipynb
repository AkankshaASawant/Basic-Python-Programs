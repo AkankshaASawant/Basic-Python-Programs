{
 "cells": [
  {
   "cell_type": "markdown",
   "id": "4a4c4387",
   "metadata": {},
   "source": [
    "### Write a Python Program to Print the Fibonacci sequence."
   ]
  },
  {
   "cell_type": "markdown",
   "id": "9f0aed9a",
   "metadata": {},
   "source": [
    "Fibonacci sequence:\n",
    "The Fibonacci sequence is a series of numbers where each number is the sum of the two\n",
    "preceding ones, typically starting with 0 and 1. So, the sequence begins with 0 and 1, and\n",
    "the next number is obtained by adding the previous two numbers. This pattern continues\n",
    "\n",
    "indefinitely, generating a sequence that looks like this:\n",
    "0, 1, 1, 2, 3, 5, 8, 13, 21, 34, 55, 89, 144, and so on.\n",
    "\n",
    "Mathematically, the Fibonacci sequence can be defined using the following recurrence\n",
    "relation:\n",
    "𝐹(0) = 0 𝐹(1) = 1 𝐹(𝑛) = 𝐹(𝑛 − 1) + 𝐹(𝑛 − 2)𝑓𝑜𝑟𝑛 > 1"
   ]
  },
  {
   "cell_type": "code",
   "execution_count": 1,
   "id": "5ae9446f",
   "metadata": {},
   "outputs": [
    {
     "name": "stdout",
     "output_type": "stream",
     "text": [
      "Fibonachi sequence: \n",
      "0\n",
      "1\n",
      "1\n",
      "2\n",
      "3\n",
      "5\n",
      "8\n",
      "13\n",
      "21\n",
      "34\n",
      "55\n",
      "89\n"
     ]
    }
   ],
   "source": [
    "Tn = int(input(\"Enter who many terms: \"))\n",
    "\n",
    "n1, n2 = 0, 1      #First 2 terms\n",
    "count = 0\n",
    "\n",
    "# Check if num in term is void\n",
    "if Tn <= 0: \n",
    "    print(\"Enter positive int\")\n",
    "\n",
    "# If there is only 1 term\n",
    "elif Tn == 1:\n",
    "    print(n1)\n",
    "\n",
    "# Generate fibonachi seq. \n",
    "else: \n",
    "    print(\"Fibonachi sequence: \")\n",
    "    while count < Tn: \n",
    "        print(n1)\n",
    "        nth = n1 + n2\n",
    "        # update values\n",
    "        n1 = n2\n",
    "        n2 = nth\n",
    "        count += 1"
   ]
  },
  {
   "cell_type": "code",
   "execution_count": null,
   "id": "df54edd2",
   "metadata": {},
   "outputs": [],
   "source": []
  }
 ],
 "metadata": {
  "kernelspec": {
   "display_name": "Python 3",
   "language": "python",
   "name": "python3"
  },
  "language_info": {
   "codemirror_mode": {
    "name": "ipython",
    "version": 3
   },
   "file_extension": ".py",
   "mimetype": "text/x-python",
   "name": "python",
   "nbconvert_exporter": "python",
   "pygments_lexer": "ipython3",
   "version": "3.12.1"
  }
 },
 "nbformat": 4,
 "nbformat_minor": 5
}
