{
 "cells": [
  {
   "cell_type": "markdown",
   "id": "a8db2234",
   "metadata": {},
   "source": [
    "### Write a Python Program to Find the Factorial of a Number."
   ]
  },
  {
   "cell_type": "code",
   "execution_count": 1,
   "id": "b8324a0b",
   "metadata": {},
   "outputs": [
    {
     "name": "stdout",
     "output_type": "stream",
     "text": [
      "factorial of 12 is 479001600\n"
     ]
    }
   ],
   "source": [
    "num = int(input(\"Enter number: \"))\n",
    "factorial = 1\n",
    "\n",
    "if num < 0:\n",
    "    print(\"No factorial\")\n",
    "\n",
    "elif num == 0: \n",
    "    print(\"factorial is 1\")\n",
    "\n",
    "else: \n",
    "    for i in range(1, num+1): \n",
    "        factorial = factorial * i\n",
    "    print(f'factorial of {num} is {factorial}')\n"
   ]
  },
  {
   "cell_type": "code",
   "execution_count": null,
   "id": "399d238d",
   "metadata": {},
   "outputs": [],
   "source": []
  }
 ],
 "metadata": {
  "kernelspec": {
   "display_name": "Python 3",
   "language": "python",
   "name": "python3"
  },
  "language_info": {
   "codemirror_mode": {
    "name": "ipython",
    "version": 3
   },
   "file_extension": ".py",
   "mimetype": "text/x-python",
   "name": "python",
   "nbconvert_exporter": "python",
   "pygments_lexer": "ipython3",
   "version": "3.12.1"
  }
 },
 "nbformat": 4,
 "nbformat_minor": 5
}
