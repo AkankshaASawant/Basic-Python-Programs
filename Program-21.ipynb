{
 "cells": [
  {
   "cell_type": "markdown",
   "id": "71727a57",
   "metadata": {},
   "source": [
    "### Write a Python Program to Find the Sum of Natural Numbers"
   ]
  },
  {
   "cell_type": "markdown",
   "id": "e659a049",
   "metadata": {},
   "source": [
    "Natural numbers are a set of positive integers that are used to count and order objects.\n",
    "They are the numbers that typically start from 1 and continue indefinitely, including all the\n",
    "whole numbers greater than 0. In mathematical notation, the set of natural numbers is often\n",
    "denoted as \"N\" and can be expressed as:\n",
    "\n",
    "𝑁 = 1, 2, 3, 4, 5, 6, 7, 8, . . ."
   ]
  },
  {
   "cell_type": "code",
   "execution_count": 1,
   "id": "e614ba82",
   "metadata": {},
   "outputs": [
    {
     "name": "stdout",
     "output_type": "stream",
     "text": [
      "The sum of the natural numbers upto 10 is: 55\n"
     ]
    }
   ],
   "source": [
    "limit = int(input(\"Enter the limit: \"))\n",
    "\n",
    "# Initialize the sum\n",
    "sum = 0\n",
    "\n",
    "# Use a for loop to calculate the sum of natural number\n",
    "for i in range(1, limit+1): \n",
    "    sum += i\n",
    "\n",
    "print(f'The sum of the natural numbers upto {limit} is: {sum}')"
   ]
  },
  {
   "cell_type": "code",
   "execution_count": null,
   "id": "cb8b1644",
   "metadata": {},
   "outputs": [],
   "source": []
  }
 ],
 "metadata": {
  "kernelspec": {
   "display_name": "Python 3",
   "language": "python",
   "name": "python3"
  },
  "language_info": {
   "codemirror_mode": {
    "name": "ipython",
    "version": 3
   },
   "file_extension": ".py",
   "mimetype": "text/x-python",
   "name": "python",
   "nbconvert_exporter": "python",
   "pygments_lexer": "ipython3",
   "version": "3.12.1"
  }
 },
 "nbformat": 4,
 "nbformat_minor": 5
}
