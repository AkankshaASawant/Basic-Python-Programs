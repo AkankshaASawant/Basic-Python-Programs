{
 "cells": [
  {
   "cell_type": "markdown",
   "id": "863c72bf",
   "metadata": {},
   "source": [
    "### Write a Python Program to Find Armstrong Number in an Interval."
   ]
  },
  {
   "cell_type": "code",
   "execution_count": 5,
   "id": "8c56a7c7",
   "metadata": {},
   "outputs": [
    {
     "name": "stdout",
     "output_type": "stream",
     "text": [
      "153\n",
      "370\n",
      "371\n",
      "407\n"
     ]
    }
   ],
   "source": [
    "# Input the interval \n",
    "lower = int(input(\"Enter lower limit of intervel: \"))\n",
    "upper = int(input(\"Enter upper limit of intervel: \"))\n",
    "\n",
    "# Iterate through the numbers in the intervel\n",
    "for num in range(lower, upper + 1): \n",
    "    order = len(str(num))         # Find the number of digits\n",
    "    temp_num = num\n",
    "    sum = 0\n",
    "\n",
    "    while temp_num > 0: \n",
    "        digit = temp_num % 10\n",
    "        sum += digit ** order\n",
    "        temp_num //= 10 \n",
    "\n",
    "    # Check if num is Armstrong number\n",
    "    if num == sum: \n",
    "        print(num)"
   ]
  },
  {
   "cell_type": "code",
   "execution_count": null,
   "id": "08dfd1c3",
   "metadata": {},
   "outputs": [],
   "source": []
  }
 ],
 "metadata": {
  "kernelspec": {
   "display_name": "Python 3",
   "language": "python",
   "name": "python3"
  },
  "language_info": {
   "codemirror_mode": {
    "name": "ipython",
    "version": 3
   },
   "file_extension": ".py",
   "mimetype": "text/x-python",
   "name": "python",
   "nbconvert_exporter": "python",
   "pygments_lexer": "ipython3",
   "version": "3.12.1"
  }
 },
 "nbformat": 4,
 "nbformat_minor": 5
}
