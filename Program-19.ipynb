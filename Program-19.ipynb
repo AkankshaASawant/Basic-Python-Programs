{
 "cells": [
  {
   "cell_type": "markdown",
   "id": "d4b0ef08",
   "metadata": {},
   "source": [
    "### Write a Python Program to Check Armstrong Number. "
   ]
  },
  {
   "cell_type": "markdown",
   "id": "fe83b1b5",
   "metadata": {},
   "source": [
    "### Armstrong Number:\n",
    "It is a number that is equal to the sum of its own digits, each raised to a power equal to the number of digits in the number.\n",
    "\n",
    "For example, let's consider the number 153:\n",
    "- It has three digits (1, 5, and 3).\n",
    "- If we calculate 1^3 + 5^3 + 3^3, we get 1 + 125 + 27, which is equal to 153.\n",
    "\n",
    "So, 153 is an Armstrong number because it equals the sum of its digits raised to the power of the number of digits in the number.\n",
    "\n",
    "Another example is 9474:\n",
    "- It has four digits (9, 4, 7, and 4).\n",
    "- If we calculate 9^4 + 4^4 + 7^4 + 4^4, we get 6561 + 256 + 2401 + 256, which is also equal to .\n",
    "\n",
    "Therefore, 9474 is an Armstrong number as well."
   ]
  },
  {
   "cell_type": "code",
   "execution_count": 1,
   "id": "386909cc",
   "metadata": {},
   "outputs": [
    {
     "name": "stdout",
     "output_type": "stream",
     "text": [
      "153 is an Armstrong number\n"
     ]
    }
   ],
   "source": [
    "num = int(input(\"Enter number: \"))\n",
    "\n",
    "# Calculate num of digits\n",
    "num_str = str(num)\n",
    "num_digit = len(num_str)\n",
    "\n",
    "# Initialize var\n",
    "sum_of_powers = 0\n",
    "temp_num = num\n",
    "\n",
    "# Calculate sum of digits raised to the power of num_digit\n",
    "while temp_num > 0: \n",
    "    digit = temp_num % 10\n",
    "    sum_of_powers += digit ** num_digit \n",
    "    temp_num //= 10 \n",
    "\n",
    "# Check if it is Armstrong number or not\n",
    "if sum_of_powers == num: \n",
    "    print(f'{num} is an Armstrong number')\n",
    "else: \n",
    "    print(f'{num} is not an Armstrong number')"
   ]
  },
  {
   "cell_type": "code",
   "execution_count": null,
   "id": "d60e95a4",
   "metadata": {},
   "outputs": [],
   "source": []
  }
 ],
 "metadata": {
  "kernelspec": {
   "display_name": "Python 3",
   "language": "python",
   "name": "python3"
  },
  "language_info": {
   "codemirror_mode": {
    "name": "ipython",
    "version": 3
   },
   "file_extension": ".py",
   "mimetype": "text/x-python",
   "name": "python",
   "nbconvert_exporter": "python",
   "pygments_lexer": "ipython3",
   "version": "3.12.1"
  }
 },
 "nbformat": 4,
 "nbformat_minor": 5
}
